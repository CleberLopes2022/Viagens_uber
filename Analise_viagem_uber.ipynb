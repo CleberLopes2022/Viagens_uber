{
 "cells": [
  {
   "cell_type": "markdown",
   "metadata": {},
   "source": [
    "# Projeto de ciencia de dados -  Análise de viagens Uber usando Python"
   ]
  },
  {
   "cell_type": "code",
   "execution_count": 3,
   "metadata": {},
   "outputs": [],
   "source": [
    "# importando as bibliotecas necessarias\n",
    "\n",
    "import pandas as pd\n",
    "import matplotlib.pyplot as plt\n",
    "import seaborn as sns"
   ]
  },
  {
   "cell_type": "code",
   "execution_count": null,
   "metadata": {},
   "outputs": [],
   "source": [
    "# importando os dados obtido de um arquivo csv\n",
    "\n",
    "data = pd.read_csv(\"uber-raw-data-sep14.csv\")\n",
    "data[\"Date/Time\"] = data[\"Date/Time\"].map(pd.to_datetime) \n",
    "data.head()"
   ]
  },
  {
   "cell_type": "markdown",
   "metadata": {},
   "source": [
    "## Preparando os dados"
   ]
  },
  {
   "cell_type": "code",
   "execution_count": null,
   "metadata": {},
   "outputs": [],
   "source": [
    "data[\"Day\"] = data[\"Date/Time\"].apply(lambda x: x.day)\n",
    "data[\"Weekday\"] = data[\"Date/Time\"].apply(lambda x: x.weekday())\n",
    "data[\"Hour\"] = data[\"Date/Time\"].apply(lambda x: x.hour)\n",
    "print(data.head())"
   ]
  },
  {
   "cell_type": "code",
   "execution_count": null,
   "metadata": {},
   "outputs": [],
   "source": [
    "sns.distplot(data[\"Hour\"])"
   ]
  },
  {
   "cell_type": "code",
   "execution_count": null,
   "metadata": {},
   "outputs": [],
   "source": [
    "sns.distplot(data[\"Weekday\"])"
   ]
  },
  {
   "cell_type": "code",
   "execution_count": null,
   "metadata": {},
   "outputs": [],
   "source": [
    "\n",
    "# Correlation of Weekday and Hour\n",
    "df = data.groupby([\"Weekday\", \"Hour\"]).apply(lambda x: len(x))\n",
    "df = df.unstack()\n",
    "sns.heatmap(df, annot=False)"
   ]
  },
  {
   "cell_type": "code",
   "execution_count": null,
   "metadata": {},
   "outputs": [],
   "source": [
    "\n",
    "data.plot(kind='scatter', x='Lon', y='Lat', alpha=0.4, s=data['Day'], label='Uber Trips',\n",
    "figsize=(12, 8), cmap=plt.get_cmap('jet'))\n",
    "plt.title(\"Uber Trips Analysis\")\n",
    "plt.legend()\n",
    "plt.show()"
   ]
  },
  {
   "cell_type": "markdown",
   "metadata": {},
   "source": [
    "#### Segunda-feira é o dia mais lucrativo para o Uber\n",
    "#### Aos sábados menos pessoas usam Uber\n",
    "#### 18h é o dia mais movimentado para o Uber\n",
    "#### Em média, um aumento nas viagens do Uber começa por volta das 5h.\n",
    "#### A maioria das viagens do Uber tem origem perto da região de Manhattan, em Nova York."
   ]
  },
  {
   "cell_type": "code",
   "execution_count": null,
   "metadata": {},
   "outputs": [],
   "source": []
  }
 ],
 "metadata": {
  "kernelspec": {
   "display_name": "Python 3",
   "language": "python",
   "name": "python3"
  },
  "language_info": {
   "codemirror_mode": {
    "name": "ipython",
    "version": 3
   },
   "file_extension": ".py",
   "mimetype": "text/x-python",
   "name": "python",
   "nbconvert_exporter": "python",
   "pygments_lexer": "ipython3",
   "version": "3.8.5"
  }
 },
 "nbformat": 4,
 "nbformat_minor": 4
}
